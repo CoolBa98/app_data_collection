{
 "cells": [
  {
   "cell_type": "code",
   "execution_count": 115,
   "id": "c23bf4d6-15cc-4588-89b5-1c06fd4a5a42",
   "metadata": {},
   "outputs": [],
   "source": [
    "import pandas as pd"
   ]
  },
  {
   "cell_type": "code",
   "execution_count": 117,
   "id": "53d33462-0fdd-4171-bc0e-1f48c36127d6",
   "metadata": {},
   "outputs": [],
   "source": [
    "df = pd.read_csv(\"url1.csv\")\n",
    "df = df.filter(['Marque', 'Prix', 'Boite_Vitesse', 'Carburant'])\n",
    "df['Prix'] = df['Prix'].str.replace('F CFA', '').str.replace('\\u202f', '').astype(int)\n",
    "df.to_csv('url1_db.csv', index=False)"
   ]
  },
  {
   "cell_type": "code",
   "execution_count": 79,
   "id": "f5fdd6b8-8bb8-4981-a7d0-b7d0c2938576",
   "metadata": {},
   "outputs": [],
   "source": [
    "df_mod = pd.read_csv('url2.csv')\n",
    "df_mod['Prix'] = df_mod['Prix'].str.replace('F CFA', '').str.replace('\\u202f', '')\n",
    "rows_with_nc = df_mod[df_mod['Prix'] == 'NC'].index\n",
    "df_mod.drop(rows_with_nc, inplace=True)\n",
    "\n",
    "df_mod.to_csv('url2.csv', index=False)"
   ]
  },
  {
   "cell_type": "code",
   "execution_count": 133,
   "id": "d3e7a20a-d632-446d-8bdd-6b9b74b2c1f8",
   "metadata": {},
   "outputs": [],
   "source": [
    "df = pd.read_csv('url2.csv')\n",
    "df['Prix'] = df['Prix'].str.replace('F CFA', '').str.replace('\\u202f', '')\n",
    "rows_with_nc = df[df['Prix'] == 'NC'].index\n",
    "df.drop(rows_with_nc, inplace=True)\n",
    "df['Prix'] = df['Prix'].astype(int)\n",
    "df['Adresse'] = df['Adresse'].str.replace(',', '')\n",
    "df = df.filter(['Marque', 'Prix', 'Adresse'])\n",
    "df.to_csv('url2_db.csv', index=False)"
   ]
  },
  {
   "cell_type": "code",
   "execution_count": 143,
   "id": "147d6408-086d-40b8-a863-1a0bcd2c1e04",
   "metadata": {},
   "outputs": [
    {
     "data": {
      "text/html": [
       "<div>\n",
       "<style scoped>\n",
       "    .dataframe tbody tr th:only-of-type {\n",
       "        vertical-align: middle;\n",
       "    }\n",
       "\n",
       "    .dataframe tbody tr th {\n",
       "        vertical-align: top;\n",
       "    }\n",
       "\n",
       "    .dataframe thead th {\n",
       "        text-align: right;\n",
       "    }\n",
       "</style>\n",
       "<table border=\"1\" class=\"dataframe\">\n",
       "  <thead>\n",
       "    <tr style=\"text-align: right;\">\n",
       "      <th></th>\n",
       "      <th>Marque</th>\n",
       "      <th>Prix</th>\n",
       "    </tr>\n",
       "  </thead>\n",
       "  <tbody>\n",
       "    <tr>\n",
       "      <th>0</th>\n",
       "      <td>Mercedes</td>\n",
       "      <td>15000</td>\n",
       "    </tr>\n",
       "    <tr>\n",
       "      <th>1</th>\n",
       "      <td>Hyundai</td>\n",
       "      <td>25000</td>\n",
       "    </tr>\n",
       "    <tr>\n",
       "      <th>2</th>\n",
       "      <td>Ford</td>\n",
       "      <td>30000</td>\n",
       "    </tr>\n",
       "    <tr>\n",
       "      <th>3</th>\n",
       "      <td>Ford</td>\n",
       "      <td>25000</td>\n",
       "    </tr>\n",
       "    <tr>\n",
       "      <th>4</th>\n",
       "      <td>Nissan</td>\n",
       "      <td>25000</td>\n",
       "    </tr>\n",
       "    <tr>\n",
       "      <th>...</th>\n",
       "      <td>...</td>\n",
       "      <td>...</td>\n",
       "    </tr>\n",
       "    <tr>\n",
       "      <th>150</th>\n",
       "      <td>Mitsubishi</td>\n",
       "      <td>40000</td>\n",
       "    </tr>\n",
       "    <tr>\n",
       "      <th>151</th>\n",
       "      <td>Ford</td>\n",
       "      <td>75000</td>\n",
       "    </tr>\n",
       "    <tr>\n",
       "      <th>152</th>\n",
       "      <td>Citroen</td>\n",
       "      <td>30000</td>\n",
       "    </tr>\n",
       "    <tr>\n",
       "      <th>153</th>\n",
       "      <td>Ford</td>\n",
       "      <td>30000</td>\n",
       "    </tr>\n",
       "    <tr>\n",
       "      <th>154</th>\n",
       "      <td>Kia</td>\n",
       "      <td>25000</td>\n",
       "    </tr>\n",
       "  </tbody>\n",
       "</table>\n",
       "<p>150 rows × 2 columns</p>\n",
       "</div>"
      ],
      "text/plain": [
       "         Marque   Prix\n",
       "0      Mercedes  15000\n",
       "1       Hyundai  25000\n",
       "2          Ford  30000\n",
       "3          Ford  25000\n",
       "4        Nissan  25000\n",
       "..          ...    ...\n",
       "150  Mitsubishi  40000\n",
       "151        Ford  75000\n",
       "152     Citroen  30000\n",
       "153        Ford  30000\n",
       "154         Kia  25000\n",
       "\n",
       "[150 rows x 2 columns]"
      ]
     },
     "execution_count": 143,
     "metadata": {},
     "output_type": "execute_result"
    }
   ],
   "source": [
    "df = pd.read_csv('url3.csv')\n",
    "df = df.filter(['Marque', 'Prix'])\n",
    "df['Prix'] = df['Prix'].str.replace('F CFA', '').str.replace('\\u202f', '')\n",
    "rows_with_nc = df[df['Prix'] == 'NC'].index\n",
    "df.drop(rows_with_nc, inplace=True)\n",
    "df['Prix'] = df['Prix'].str.replace('F CFA', '').str.replace('\\u202f', '').astype(int)\n",
    "\n",
    "df.to_csv('url3_db.csv', index=False)\n",
    "df"
   ]
  },
  {
   "cell_type": "code",
   "execution_count": null,
   "id": "18ebba95-c5d5-42b2-bccc-d1c03fc7e3a6",
   "metadata": {},
   "outputs": [],
   "source": []
  }
 ],
 "metadata": {
  "kernelspec": {
   "display_name": "Python 3 (ipykernel)",
   "language": "python",
   "name": "python3"
  },
  "language_info": {
   "codemirror_mode": {
    "name": "ipython",
    "version": 3
   },
   "file_extension": ".py",
   "mimetype": "text/x-python",
   "name": "python",
   "nbconvert_exporter": "python",
   "pygments_lexer": "ipython3",
   "version": "3.12.0"
  }
 },
 "nbformat": 4,
 "nbformat_minor": 5
}
